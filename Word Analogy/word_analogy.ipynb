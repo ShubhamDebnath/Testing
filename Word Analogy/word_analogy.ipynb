{
 "cells": [
  {
   "cell_type": "code",
   "execution_count": 1,
   "metadata": {
    "collapsed": true
   },
   "outputs": [],
   "source": [
    "import numpy as np"
   ]
  },
  {
   "cell_type": "code",
   "execution_count": 2,
   "metadata": {
    "collapsed": true
   },
   "outputs": [],
   "source": [
    "def cosine_sim(u, v):\n",
    "    dot_prod = np.dot(u, v)\n",
    "    u_norm = np.linalg.norm(u)\n",
    "    v_norm = np.linalg.norm(v)\n",
    "    sim = dot_prod/ (u_norm * v_norm)\n",
    "    return sim"
   ]
  },
  {
   "cell_type": "code",
   "execution_count": 3,
   "metadata": {
    "collapsed": true
   },
   "outputs": [],
   "source": [
    "def read_embeddings():\n",
    "    file = open('data/glove.6B.50d.txt', 'r', encoding=\"utf-8\")\n",
    "    glove_emb = {}\n",
    "    for line in file.readlines():\n",
    "        word = line.strip().split()[0]\n",
    "        emb = line.split()[1:]\n",
    "        glove_emb[word] = np.array(emb, dtype = np.float64)\n",
    "    file.close()\n",
    "    return glove_emb"
   ]
  },
  {
   "cell_type": "code",
   "execution_count": 69,
   "metadata": {},
   "outputs": [
    {
     "name": "stdout",
     "output_type": "stream",
     "text": [
      " enter 3 words separated by spacehe she man\n"
     ]
    }
   ],
   "source": [
    "# if __name__ == '__main__':\n",
    "str = input(' enter 3 words separated by space').split(' ')\n",
    "a = str[0].lower()\n",
    "b = str[1].lower()\n",
    "c = str[2].lower()"
   ]
  },
  {
   "cell_type": "code",
   "execution_count": 70,
   "metadata": {},
   "outputs": [
    {
     "name": "stdout",
     "output_type": "stream",
     "text": [
      "he she man\n"
     ]
    }
   ],
   "source": [
    "print(a, b, c)"
   ]
  },
  {
   "cell_type": "code",
   "execution_count": 33,
   "metadata": {
    "collapsed": true
   },
   "outputs": [],
   "source": [
    "embedding = read_embeddings()\n",
    "words = list(embedding)"
   ]
  },
  {
   "cell_type": "code",
   "execution_count": 34,
   "metadata": {},
   "outputs": [
    {
     "name": "stdout",
     "output_type": "stream",
     "text": [
      "400000\n"
     ]
    }
   ],
   "source": [
    "print(len(words))"
   ]
  },
  {
   "cell_type": "code",
   "execution_count": 71,
   "metadata": {
    "collapsed": true
   },
   "outputs": [],
   "source": [
    "a_emb = embedding[a]\n",
    "b_emb = embedding[b]\n",
    "c_emb = embedding[c]\n",
    "u = a_emb - b_emb"
   ]
  },
  {
   "cell_type": "markdown",
   "metadata": {},
   "source": [
    "### Note\n",
    "since we are findinf cosine similarity, so 0 degree is max and opposite 180 degree is min\n",
    "when doing c - d update with max value and initialize with min value\n",
    "below 1 way of doing the same thing"
   ]
  },
  {
   "cell_type": "code",
   "execution_count": 89,
   "metadata": {
    "collapsed": true
   },
   "outputs": [],
   "source": [
    "best_word = None\n",
    "dist = -999\n",
    "for d in words:\n",
    "    if d in [a,b,c]:\n",
    "        continue\n",
    "    cos_sim = cosine_sim(u, c_emb - embedding[d])\n",
    "    if dist < cos_sim:\n",
    "        dist = cos_sim\n",
    "        best_word = d"
   ]
  },
  {
   "cell_type": "code",
   "execution_count": 91,
   "metadata": {},
   "outputs": [
    {
     "name": "stdout",
     "output_type": "stream",
     "text": [
      "woman\n"
     ]
    }
   ],
   "source": [
    "print(best_word)"
   ]
  },
  {
   "cell_type": "code",
   "execution_count": null,
   "metadata": {
    "collapsed": true
   },
   "outputs": [],
   "source": []
  }
 ],
 "metadata": {
  "kernelspec": {
   "display_name": "Python 3",
   "language": "python",
   "name": "python3"
  },
  "language_info": {
   "codemirror_mode": {
    "name": "ipython",
    "version": 3
   },
   "file_extension": ".py",
   "mimetype": "text/x-python",
   "name": "python",
   "nbconvert_exporter": "python",
   "pygments_lexer": "ipython3",
   "version": "3.6.3"
  }
 },
 "nbformat": 4,
 "nbformat_minor": 2
}
