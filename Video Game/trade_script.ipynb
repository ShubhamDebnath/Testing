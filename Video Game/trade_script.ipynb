{
 "cells": [
  {
   "cell_type": "markdown",
   "metadata": {},
   "source": [
    "# CrossOut Crafting and Trading Script"
   ]
  },
  {
   "cell_type": "markdown",
   "metadata": {
    "collapsed": true
   },
   "source": [
    "##### This script is producing blue items for a specific faction i.e Scavenger , if needed , just change the names of the items in name_dict, item_list, scroll_list (the subsequent item id will have to be changed as well)\n",
    "   #### Also make sure you have enough scrap, copper and whites to produce any given item\n",
    "   #### This script keeps working in a loop, so ensure you always have enough coins to rent workbenches \n",
    "   #### While this script is executing, the game window must be kept open , as i am still novice with python programming"
   ]
  },
  {
   "cell_type": "markdown",
   "metadata": {},
   "source": [
    "## Necessary imports"
   ]
  },
  {
   "cell_type": "code",
   "execution_count": null,
   "metadata": {},
   "outputs": [],
   "source": [
    "import time\n",
    "import requests\n",
    "import pyautogui\n",
    "from bs4 import BeautifulSoup"
   ]
  },
  {
   "cell_type": "markdown",
   "metadata": {},
   "source": [
    "#### This function creates a dictionary of mouse coordinates for items and confirm screens coordinates, please note that these coordinates are for 1600 x 900 resolution. Use my script named 'capture.py' to get mouse coordinates corresponding to your resolution"
   ]
  },
  {
   "cell_type": "code",
   "execution_count": 4,
   "metadata": {
    "collapsed": true
   },
   "outputs": [],
   "source": [
    "def name_list_creator():\n",
    "    \n",
    "    name_dict = {'Judge 76mm 70':(343, 386),\n",
    "                'Auger 51':(349, 496),\n",
    "                'Trucker 39':(368, 588),\n",
    "                'Improved radar 152':(353, 698),\n",
    "                'Razorback 65':(355, 790),\n",
    "                'Twin wheel 91':(365, 290),\n",
    "                'Twin wheel ST 83':(343, 386),\n",
    "                'Large wheel 116':(349, 496),\n",
    "                'Large wheel ST 113':(368, 588),\n",
    "                'DT Cobra 123':(353, 698),\n",
    "                'Heavy generator 41':(355, 790),\n",
    "                'Faction':(258, 29),\n",
    "                'Scavenger':(667, 90),\n",
    "                'Rare':(315, 431),\n",
    "                'Rent':(952, 194),                              #Rents workbench for 15\n",
    "                'Confirm_Screen':(671, 506),\n",
    "                'Trade': (261, 769),\n",
    "                'Sell': (403, 777),\n",
    "                'Minus': (454, 360),\n",
    "                'OK_sell': (666, 665),\n",
    "                'Build': (741, 810)\n",
    "                }\n",
    "\n",
    "    #list of blue items, that we want to choose from\n",
    "    item_list = ['Heavy generator 41', 'Judge 76mm 70', 'Large wheel ST 113', 'Large wheel 116', 'DT Cobra 123',\n",
    "                 'Improved radar 152', 'Twin wheel ST 83', 'Twin wheel 91', 'Auger 51', 'Razorback 65', 'Trucker 39']\n",
    "\n",
    "    #to make items from this list you need to scroll down\n",
    "    scroll_list = ['Twin wheel 91','Twin wheel ST 83',\n",
    "                'Large wheel 116', 'Large wheel ST 113',\n",
    "                'DT Cobra 123', 'Heavy generator 41']\n",
    "    return name_dict, item_list, scroll_list"
   ]
  },
  {
   "cell_type": "markdown",
   "metadata": {},
   "source": [
    "#### This function fetches latest sell prices from crossoutdb.com and creates corresponding text files for each item. Please change base to any directory of your choice"
   ]
  },
  {
   "cell_type": "code",
   "execution_count": 7,
   "metadata": {
    "collapsed": true
   },
   "outputs": [],
   "source": [
    "def fetch_values_from_db():\n",
    "    item_list = [39, 41, 51, 65, 70, 83, 91, 113, 116, 123, 152]\n",
    "    base = 'C:\\\\Users\\\\gamef\\\\Downloads\\\\Documents\\\\CO\\\\'\n",
    "    base_url = \"https://crossoutdb.com/item/\"\n",
    "    for i in item_list:\n",
    "        r = requests.get(base_url + str(i))\n",
    "        soup = BeautifulSoup(r.content, 'html.parser')\n",
    "        item_name = soup.find(\"h4\", \"item-title\").text.strip().replace(\"?\", \"\")\n",
    "        sell_price = soup.find(\"div\", \"text-right sum-value sum-sell\").text.strip()\n",
    "        file_handler = open(base + item_name + \" \" + str(i) + \".txt\", 'w')\n",
    "        file_handler.write(sell_price)\n",
    "        file_handler.close()"
   ]
  },
  {
   "cell_type": "markdown",
   "metadata": {},
   "source": [
    "#### This function returns the name of the item that is selling for highest value according to the site"
   ]
  },
  {
   "cell_type": "code",
   "execution_count": 9,
   "metadata": {
    "collapsed": true
   },
   "outputs": [],
   "source": [
    "def current_max_function():\n",
    "    name_dict, item_list, scroll_list = name_list_creator()\n",
    "    base = 'C:\\\\Users\\\\gamef\\\\Downloads\\\\Documents\\\\CO\\\\'\n",
    "    current_max_item = 'Heavy generator 41'\n",
    "    current_max_value = 30.0                     #any arbitrary value to compare prices\n",
    "    for i in item_list:\n",
    "        file_handler = open(base + str(i) + \".txt\", 'r')\n",
    "        value = float(file_handler.readline())\n",
    "        if(value > current_max_value):\n",
    "            current_max_value = value\n",
    "            current_max_item = i\n",
    "        file_handler.close()\n",
    "    return current_max_item"
   ]
  },
  {
   "cell_type": "markdown",
   "metadata": {},
   "source": [
    "#### This is the AFK function that prevents game client from logging out, can be used on its own as well , where interval is the number of the secons you wish to be AFK for"
   ]
  },
  {
   "cell_type": "code",
   "execution_count": 11,
   "metadata": {
    "collapsed": true
   },
   "outputs": [],
   "source": [
    "def afk_function(interval = 3600):\n",
    "    timeout = time.time() + interval\n",
    "    i = 0\n",
    "    while time.time() < timeout:\n",
    "        pyautogui.dragTo(1400 + i, 700 + i, duration=1)\n",
    "        i += 10\n",
    "        i = i % 100\n",
    "        time.sleep(5)"
   ]
  },
  {
   "cell_type": "markdown",
   "metadata": {},
   "source": [
    "#### Now lets build the main script for using all the functions created earlier."
   ]
  },
  {
   "cell_type": "markdown",
   "metadata": {},
   "source": [
    "##### Please note, set i variable to the number of items you have already created after renting once. This change should also be made when you start this script again"
   ]
  },
  {
   "cell_type": "code",
   "execution_count": 13,
   "metadata": {
    "collapsed": true
   },
   "outputs": [],
   "source": [
    "name_dict, item_list, scroll_list = name_list_creator()\n",
    "i=2                             #items created"
   ]
  },
  {
   "cell_type": "code",
   "execution_count": null,
   "metadata": {
    "collapsed": true
   },
   "outputs": [],
   "source": [
    "while(True):\n",
    "    fetch_values_from_db()\n",
    "\n",
    "    current_max_item = current_max_function()\n",
    "\n",
    "    (x, y) = name_dict['Faction']                           #clicks on Faction tab\n",
    "    pyautogui.click(x, y, clicks=1, button='left')\n",
    "\n",
    "\n",
    "    (x, y) = name_dict['Scavenger']                         #clicks on 'Scavenger' tab\n",
    "    pyautogui.click(x, y, clicks=1, button='left')\n",
    "\n",
    "    (x, y) = name_dict['Rare']                              #selects blue\n",
    "    pyautogui.click(x, y, clicks=1, button='left')\n",
    "\n",
    "    #code for building of items\n",
    "\n",
    "    #if items is in lower half , scroll down\n",
    "    if current_max_item in scroll_list:\n",
    "        timeout = time.time() + 3\n",
    "        while time.time() < timeout :\n",
    "            pyautogui.scroll(-10)\n",
    "\n",
    "    (x, y) = name_dict[current_max_item]  # selects blue\n",
    "    pyautogui.click(x, y, clicks=1, button='left')\n",
    "\n",
    "    (x, y) = name_dict['Build']  # selects build button\n",
    "    pyautogui.click(x, y, clicks=1, button='left')\n",
    "\n",
    "    (x, y) = name_dict['Confirm_Screen']\n",
    "    pyautogui.click(x, y, clicks=1, button='left')\n",
    "\n",
    "    i = i+1\n",
    "\n",
    "    afk_function()\n",
    "\n",
    "    #code for retrieving and selling\n",
    "    (x, y) = name_dict['Rare']\n",
    "    pyautogui.click(x, y, clicks=1, button='left')\n",
    "\n",
    "    (x, y) = name_dict['Trade']\n",
    "    pyautogui.click(x, y, clicks=1, button='left')\n",
    "\n",
    "    (x, y) = name_dict['Sell']\n",
    "    pyautogui.click(x, y, clicks=1, button='left')\n",
    "\n",
    "    (x, y) = name_dict['Minus']             #decrement selling price by 0.01 C\n",
    "    pyautogui.click(x, y, clicks=1, button='left')\n",
    "\n",
    "    (x, y) = name_dict['OK_Sell']           # put up the item for sale\n",
    "    pyautogui.click(x, y, clicks=1, button='left')\n",
    "\n",
    "    (x, y) = name_dict['Faction']  # clicks on Faction tab\n",
    "    pyautogui.click(x, y, clicks=1, button='left')\n",
    "\n",
    "    (x, y) = name_dict['Scavenger']  # clicks on 'Scavenger' tab\n",
    "    pyautogui.click(x, y, clicks=1, button='left')\n",
    "\n",
    "    (x, y) = name_dict['Rare']  # selects blue\n",
    "    pyautogui.click(x, y, clicks=1, button='left')\n",
    "\n",
    "\n",
    "    #Rent Work Bench, 15 items\n",
    "    if(i%15 == 0):\n",
    "        i = i%15\n",
    "        (x, y) = name_dict['Rent']\n",
    "        pyautogui.click(x, y, clicks= 1, button='left')\n",
    "        (x, y) = name_dict['Confirm_Screen']\n",
    "        pyautogui.click(x, y, clicks=1, button='left')"
   ]
  },
  {
   "cell_type": "markdown",
   "metadata": {},
   "source": [
    "### Good Luck, by my calculation you need about 10,800 scrap and 1200 copper daily"
   ]
  }
 ],
 "metadata": {
  "kernelspec": {
   "display_name": "Python 3",
   "language": "python",
   "name": "python3"
  },
  "language_info": {
   "codemirror_mode": {
    "name": "ipython",
    "version": 3
   },
   "file_extension": ".py",
   "mimetype": "text/x-python",
   "name": "python",
   "nbconvert_exporter": "python",
   "pygments_lexer": "ipython3",
   "version": "3.6.3"
  }
 },
 "nbformat": 4,
 "nbformat_minor": 2
}
