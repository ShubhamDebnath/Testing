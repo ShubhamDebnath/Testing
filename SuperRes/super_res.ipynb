{
 "cells": [
  {
   "cell_type": "code",
   "execution_count": 8,
   "metadata": {},
   "outputs": [
    {
     "data": {
      "text/plain": [
       "'1.4.0'"
      ]
     },
     "execution_count": 8,
     "metadata": {},
     "output_type": "execute_result"
    }
   ],
   "source": [
    "import os\n",
    "import cv2\n",
    "import numpy as np\n",
    "from IPython.display import clear_output\n",
    "from matplotlib.pyplot import imshow, plot, show\n",
    "from keras.layers import Conv2D, Add, BatchNormalization, Input, Lambda, Multiply\n",
    "from keras.backend import tensorflow_backend as K\n",
    "from keras.models import Model\n",
    "from keras.applications.vgg16 import VGG16\n",
    "from keras.losses import mean_squared_error\n",
    "import tensorflow as tf\n",
    "tf.__version__"
   ]
  },
  {
   "cell_type": "markdown",
   "metadata": {},
   "source": [
    "##### Please set img_dir to your pictures folder first"
   ]
  },
  {
   "cell_type": "code",
   "execution_count": 33,
   "metadata": {},
   "outputs": [],
   "source": [
    "res_scale = 0.1\n",
    "scale = 2\n",
    "batch_size = 20\n",
    "validation_size = int(0.25 * batch_size)\n",
    "input_shape = (128, 128, 3)\n",
    "output_shape = (256, 256, 3)\n",
    "# img_dir = 'DIV2K_train_HR/'\n",
    "img_dir = 'VOCdevkit/VOC2012/JPEGImages/'\n",
    "image_list = os.listdir(img_dir)"
   ]
  },
  {
   "cell_type": "code",
   "execution_count": 4,
   "metadata": {},
   "outputs": [],
   "source": [
    "def get_data(current_batch = 0):\n",
    "    \n",
    "    start = current_batch * batch_size\n",
    "    end = (current_batch+1) * batch_size\n",
    "    train_y = [cv2.imread(os.path.join(img_dir, i), 1) for i in image_list[start:end]]\n",
    "    test_x = [cv2.resize(i, input_shape[:2]) for i in train_y[-validation_size:]]\n",
    "    test_y = [cv2.resize(i, output_shape[:2]) for i in train_y[-validation_size:]]\n",
    "    train_x = [cv2.resize(i, input_shape[:2]) for i in train_y[:-validation_size]]\n",
    "    train_y = [cv2.resize(i, output_shape[:2]) for i in train_y[:-validation_size]]\n",
    "#     print(len(train_x))\n",
    "#     print(len(train_y))\n",
    "    \n",
    "    return np.array(train_x), np.array(train_y), np.array(test_x), np.array(test_y)"
   ]
  },
  {
   "cell_type": "markdown",
   "metadata": {},
   "source": [
    "### 1st implementaion of Pixel Shuffle"
   ]
  },
  {
   "cell_type": "code",
   "execution_count": 4,
   "metadata": {},
   "outputs": [],
   "source": [
    "\"\"\"\n",
    "Borrowed from https://github.com/tetrachrome/subpixel\n",
    "Used for subpixel phase shifting after deconv operations\n",
    "\"\"\"\n",
    "def _phase_shift(I, r):\n",
    "    bsize, a, b, c = I.get_shape().as_list()\n",
    "    bsize = Lambda( lambda tensor: tf.shape(tensor)[0])(I) # Handling Dimension(None) type for undefined batch dim\n",
    "    X = Lambda( lambda tensor: tf.reshape(tensor, (bsize, a, b, r, r)))(I)\n",
    "    X = Lambda( lambda tensor: tf.transpose(tensor, (0, 1, 2, 4, 3)))(X)  # bsize, a, b, 1, 1\n",
    "    X = Lambda( lambda tensor: tf.split(tensor, a, 1))(X) #K.split(X, a, 1)  # a, [bsize, b, r, r]\n",
    "    X = Lambda( lambda tensor: tf.concat([tf.squeeze(x, axis=1) for x in tensor],2))(X)  # bsize, b, a*r, r\n",
    "    X = Lambda( lambda tensor: tf.split(tensor, b, 1))(X) #K.split(X, b, 1)  # b, [bsize, a*r, r]\n",
    "    X = Lambda( lambda tensor: tf.concat([tf.squeeze(x, axis=1) for x in tensor],2))(X)  # bsize, a*r, b*r\n",
    "    return Lambda(lambda tensor: tf.reshape(tensor, (bsize, a*r, b*r, 1)))(X)"
   ]
  },
  {
   "cell_type": "code",
   "execution_count": 2,
   "metadata": {},
   "outputs": [],
   "source": [
    "\"\"\"\n",
    "Borrowed from https://github.com/tetrachrome/subpixel\n",
    "Used for subpixel phase shifting after deconv operations\n",
    "\"\"\"\n",
    "def PS(X, r, color=False):\n",
    "    if color:\n",
    "        Xc = Lambda( lambda tensor: tf.split(tensor, 3, 3))(X)\n",
    "        X = Lambda( lambda tensor: tf.concat([_phase_shift(x, r) for x in tensor],3))(Xc)\n",
    "    else:\n",
    "        X = _phase_shift(X, r)\n",
    "    return X"
   ]
  },
  {
   "cell_type": "markdown",
   "metadata": {},
   "source": [
    "### 2nd implementaion of Pixel Shuffle"
   ]
  },
  {
   "cell_type": "code",
   "execution_count": 5,
   "metadata": {},
   "outputs": [],
   "source": [
    "def SubpixelConv2D(input_shape, scale=4):\n",
    "    \"\"\"\n",
    "    Borrowed from https://github.com/twairball/keras-subpixel-conv/blob/master/subpixel.py\n",
    "    Keras layer to do subpixel convolution.\n",
    "    NOTE: Tensorflow backend only. Uses tf.depth_to_space\n",
    "    Ref:\n",
    "        [1] Real-Time Single Image and Video Super-Resolution Using an Efficient Sub-Pixel Convolutional Neural Network\n",
    "            Shi et Al.\n",
    "            https://arxiv.org/abs/1609.05158\n",
    "    :param input_shape: tensor shape, (batch, height, width, channel)\n",
    "    :param scale: upsampling scale. Default=4\n",
    "    :return:\n",
    "    \"\"\"\n",
    "    # upsample using depth_to_space\n",
    "    def subpixel_shape(input_shape):\n",
    "        dims = [input_shape[0],\n",
    "                input_shape[1] * scale,\n",
    "                input_shape[2] * scale,\n",
    "                int(input_shape[3] / (scale ** 2))]\n",
    "        output_shape = tuple(dims)\n",
    "        return output_shape\n",
    "\n",
    "    def subpixel(x):\n",
    "        return tf.depth_to_space(x, scale)\n",
    "\n",
    "\n",
    "    return Lambda(subpixel, output_shape=subpixel_shape, name='subpixel')"
   ]
  },
  {
   "cell_type": "markdown",
   "metadata": {},
   "source": [
    "### Transformation Model\n",
    "just a few conv layers as res blocks and pixel shuffling"
   ]
  },
  {
   "cell_type": "code",
   "execution_count": 6,
   "metadata": {},
   "outputs": [],
   "source": [
    "def transformation_model(input_shape):\n",
    "    \n",
    "    inputs = Input(shape = input_shape)\n",
    "    conv_1 = Conv2D(64, (3, 3), strides = (1, 1), padding = 'same', activation = 'relu', name = 'conv_1_1')(inputs)\n",
    "    \n",
    "    ## Just for using in the for loop\n",
    "    X = conv_1\n",
    "    \n",
    "    ## Res Blocks\n",
    "    for i in range(2, 10):\n",
    "        X = Conv2D(64, (3, 3), strides = (1, 1), padding = 'same', activation = 'relu', name = 'conv_{}_1'.format(i))(X)\n",
    "        X1 = Conv2D(64, (3, 3), strides = (1, 1), padding = 'same', name = 'conv_{}_2'.format(i))(X)\n",
    "        X1 = Lambda( lambda tensor: tensor * res_scale, name = 'multiply_{}'.format(i))(X1)\n",
    "        X = Add()([X, X1])\n",
    "    \n",
    "    ## Adding result of Res Blocks with output of 1st layer\n",
    "    X = Add()([X, conv_1])\n",
    "    \n",
    "    ## This portion is for upsampling, keeping r = 2\n",
    "    X = Conv2D(64, (3, 3), strides = (1, 1), padding = 'same', activation = 'relu', name = 'conv_10_1')(X)\n",
    "    \n",
    "    ## 1st implementation of Pixel Shuffle\n",
    "    X = Conv2D(3*(scale ** 2), (3, 3), strides = (1, 1), padding = 'same', activation = 'relu', name = 'conv_11_1')(X)\n",
    "    X = PS(X, scale, color = True)\n",
    "\n",
    "    ## 2nd implementaion of Pixel Shuffle\n",
    "#     X = Conv2D(64 * (scale ** 2), (3, 3), strides = (1, 1), padding = 'same', activation = 'relu', name = 'conv_11_1')(X)\n",
    "#     X = SubpixelConv2D(X.shape, scale = scale)(X)\n",
    "    \n",
    "    ## Just because Jeremy Howard said it works\n",
    "    X = BatchNormalization()(X)\n",
    "    \n",
    "    ## One final conv layer, to bring back to required size\n",
    "    X = Conv2D(3, (3, 3), strides = (1, 1), padding = 'same', name = 'conv_12_1')(X)\n",
    "    \n",
    "    model = Model(inputs = inputs, outputs = X)\n",
    "    \n",
    "    return model"
   ]
  },
  {
   "cell_type": "markdown",
   "metadata": {},
   "source": [
    "### Loss Model\n",
    "loading up vgg16 from keras.applications and sending some its layers as output  "
   ]
  },
  {
   "cell_type": "code",
   "execution_count": 7,
   "metadata": {},
   "outputs": [],
   "source": [
    "def loss_model():\n",
    "    \n",
    "    base_model = VGG16(include_top = False, weights = 'imagenet', input_shape = output_shape)\n",
    "#     vgg.load_model('pre_trained/vgg16_weights_tf_dim_ordering_tf_kernels.h5')\n",
    "\n",
    "    ## listing all the layers required for perceptual loss as mentioned in EDSR\n",
    "    layers_required = ['block1_conv2', 'block2_conv2', 'block3_conv3', 'block4_conv3']\n",
    "    \n",
    "    for layer in base_model.layers:\n",
    "        layer.trainable = False\n",
    "    \n",
    "    model = Model(inputs = base_model.input, outputs = [base_model.get_layer(i).output for i in layers_required])\n",
    "    return model"
   ]
  },
  {
   "cell_type": "markdown",
   "metadata": {},
   "source": [
    "### Full Model\n",
    "combining the transformation model and loss model into a single one, and using MSE loss between output of loss model om generated and actual images"
   ]
  },
  {
   "cell_type": "code",
   "execution_count": 15,
   "metadata": {},
   "outputs": [],
   "source": [
    "def full_model():\n",
    "    l_model = loss_model()\n",
    "    t_model = transformation_model(input_shape)\n",
    "    loss_model_outputs = l_model(t_model.output)\n",
    "    model = Model(inputs = t_model.input, outputs = loss_model_outputs)\n",
    "    return model"
   ]
  },
  {
   "cell_type": "code",
   "execution_count": 16,
   "metadata": {},
   "outputs": [],
   "source": [
    "model = full_model()\n",
    "model.compile(optimizer = 'adam', loss = 'mse', metrics = ['accuracy'])"
   ]
  },
  {
   "cell_type": "markdown",
   "metadata": {},
   "source": [
    "### Training Loop\n",
    "Caliing fit funtion iteratively for all the batches because I can't load up all the images at once in main memory or gpu memory"
   ]
  },
  {
   "cell_type": "code",
   "execution_count": null,
   "metadata": {},
   "outputs": [
    {
     "data": {
      "image/png": "[encoded data removed]",
      "text/plain": [
       "<matplotlib.figure.Figure at 0x1fba8d4b6a0>"
      ]
     },
     "metadata": {},
     "output_type": "display_data"
    },
    {
     "name": "stdout",
     "output_type": "stream",
     "text": [
      "\n",
      "\n",
      "\n",
      " ******************** \n",
      "\n",
      "\n",
      "\n",
      "current batch number:  1 out of  85\n"
     ]
    }
   ],
   "source": [
    "num_batches = len(image_list) // batch_size\n",
    "l_model = loss_model()\n",
    "\n",
    "for i in range(num_batches):\n",
    "    print('\\n\\n\\n', '*'*20, '\\n\\n\\n')\n",
    "    print('current batch number: ', i, 'out of ', num_batches)\n",
    "    train_x, train_y, test_x, test_y = get_data(i)\n",
    "    loss_train_y = l_model.predict(train_y)\n",
    "    loss_test_y = l_model.predict(test_y)\n",
    "    model.fit(x = train_x, y = loss_train_y, batch_size = 16, epochs = 200, validation_data = (test_x, loss_test_y))\n",
    "    \n",
    "    ## This code is just to plot the losses, you may comment all this and un-comment the above model.fit() call\n",
    "#     history = model.fit(x = train_x, y = loss_train_y, batch_size = 16, epochs = 200, verbose = 0, validation_data = (test_x, loss_test_y))\n",
    "#     clear_output()\n",
    "#     plot(history.history['loss'])\n",
    "#     show()"
   ]
  },
  {
   "cell_type": "markdown",
   "metadata": {},
   "source": [
    "### This is the end of useful code\n",
    "### below is just some code snippets left from experimentations"
   ]
  },
  {
   "cell_type": "code",
   "execution_count": null,
   "metadata": {},
   "outputs": [],
   "source": [
    "np.array(loss[3]).shape"
   ]
  },
  {
   "cell_type": "code",
   "execution_count": null,
   "metadata": {},
   "outputs": [],
   "source": [
    "train_x, train_y, test_x, test_y = get_data(0)\n",
    "print(train_x.shape)\n",
    "print(train_y.shape)\n",
    "print(test_x.shape)\n",
    "print(test_y.shape)"
   ]
  },
  {
   "cell_type": "code",
   "execution_count": null,
   "metadata": {},
   "outputs": [],
   "source": []
  },
  {
   "cell_type": "code",
   "execution_count": null,
   "metadata": {},
   "outputs": [],
   "source": [
    "def perceptual_loss(y_true, y_pred):\n",
    "    l_model = loss_model(y_true)\n",
    "    actual = l_model.predict(y_true)\n",
    "    l_model = loss_model(y_pred)\n",
    "    generated = l_model.predict(y_pred)\n",
    "    mse_loss = mean_squared_error(actual, generated)\n",
    "    return mse_loss"
   ]
  },
  {
   "cell_type": "code",
   "execution_count": null,
   "metadata": {
    "scrolled": true
   },
   "outputs": [],
   "source": [
    "l_model = loss_model()\n",
    "l_model.summary()"
   ]
  },
  {
   "cell_type": "code",
   "execution_count": null,
   "metadata": {
    "scrolled": true
   },
   "outputs": [],
   "source": [
    "t_model = transformation_model(input_shape)\n",
    "t_model.summary()"
   ]
  },
  {
   "cell_type": "code",
   "execution_count": null,
   "metadata": {},
   "outputs": [],
   "source": [
    "model.summary()"
   ]
  },
  {
   "cell_type": "code",
   "execution_count": null,
   "metadata": {},
   "outputs": [],
   "source": []
  }
 ],
 "metadata": {
  "kernelspec": {
   "display_name": "Python 3",
   "language": "python",
   "name": "python3"
  },
  "language_info": {
   "codemirror_mode": {
    "name": "ipython",
    "version": 3
   },
   "file_extension": ".py",
   "mimetype": "text/x-python",
   "name": "python",
   "nbconvert_exporter": "python",
   "pygments_lexer": "ipython3",
   "version": "3.6.3"
  }
 },
 "nbformat": 4,
 "nbformat_minor": 2
}
