{
 "cells": [
  {
   "cell_type": "code",
   "execution_count": 15,
   "metadata": {},
   "outputs": [
    {
     "name": "stdout",
     "output_type": "stream",
     "text": [
      "The autoreload extension is already loaded. To reload it, use:\n",
      "  %reload_ext autoreload\n"
     ]
    },
    {
     "name": "stderr",
     "output_type": "stream",
     "text": [
      "[autoreload of utility failed: Traceback (most recent call last):\n",
      "  File \"C:\\ProgramData\\Anaconda3\\envs\\tensorflow\\lib\\site-packages\\IPython\\extensions\\autoreload.py\", line 246, in check\n",
      "    superreload(m, reload, self.old_objects)\n",
      "  File \"C:\\ProgramData\\Anaconda3\\envs\\tensorflow\\lib\\site-packages\\IPython\\extensions\\autoreload.py\", line 369, in superreload\n",
      "    module = reload(module)\n",
      "  File \"C:\\ProgramData\\Anaconda3\\envs\\tensorflow\\lib\\imp.py\", line 315, in reload\n",
      "    return importlib.reload(module)\n",
      "  File \"C:\\ProgramData\\Anaconda3\\envs\\tensorflow\\lib\\importlib\\__init__.py\", line 166, in reload\n",
      "    _bootstrap._exec(spec, module)\n",
      "  File \"<frozen importlib._bootstrap>\", line 618, in _exec\n",
      "  File \"<frozen importlib._bootstrap_external>\", line 674, in exec_module\n",
      "  File \"<frozen importlib._bootstrap_external>\", line 781, in get_code\n",
      "  File \"<frozen importlib._bootstrap_external>\", line 741, in source_to_code\n",
      "  File \"<frozen importlib._bootstrap>\", line 219, in _call_with_frames_removed\n",
      "  File \"C:\\Users\\gamef\\Desktop\\FaceRecog\\utility.py\", line 266\n",
      "    encoding = img_to_encoding_realtime(roi_color, model)\n",
      "           ^\n",
      "SyntaxError: invalid syntax\n",
      "]\n"
     ]
    }
   ],
   "source": [
    "from keras.models import Sequential\n",
    "from keras.layers import Conv2D, ZeroPadding2D, Activation, Input, concatenate\n",
    "from keras.models import Model\n",
    "from keras.layers.normalization import BatchNormalization\n",
    "from keras.layers.pooling import MaxPooling2D, AveragePooling2D\n",
    "from keras.layers.merge import Concatenate\n",
    "from keras.layers.core import Lambda, Flatten, Dense\n",
    "from keras.initializers import glorot_uniform\n",
    "from keras.engine.topology import Layer\n",
    "from keras import backend as K\n",
    "K.set_image_data_format('channels_first')\n",
    "import cv2\n",
    "import os\n",
    "import numpy as np\n",
    "import pickle\n",
    "from numpy import genfromtxt\n",
    "import pandas as pd\n",
    "import tensorflow as tf\n",
    "from utility import *\n",
    "from inception_blocks_v2 import *\n",
    "\n",
    "%matplotlib inline\n",
    "%load_ext autoreload\n",
    "%autoreload 2\n"
   ]
  },
  {
   "cell_type": "code",
   "execution_count": 3,
   "metadata": {},
   "outputs": [],
   "source": [
    "np.set_printoptions(threshold=np.nan)\n",
    "\n",
    "\n",
    "#Using an ConvNet to compute encodings\n",
    "FRmodel = faceRecoModel(input_shape=(3, 96, 96))\n",
    "\n",
    "# print(\"Total Params:\", FRmodel.count_params())"
   ]
  },
  {
   "cell_type": "code",
   "execution_count": 4,
   "metadata": {},
   "outputs": [],
   "source": [
    "def triplet_loss(y_true, y_pred, alpha = 0.2):\n",
    "    \"\"\"\n",
    "    Arguments:\n",
    "    y_true -- true labels, required when you define a loss in Keras, you don't need it in this function.\n",
    "    y_pred -- python list containing three objects:\n",
    "            anchor -- the encodings for the anchor images, of shape (None, 128)\n",
    "            positive -- the encodings for the positive images, of shape (None, 128)\n",
    "            negative -- the encodings for the negative images, of shape (None, 128)\n",
    "    \n",
    "    Returns:\n",
    "    loss -- real number, value of the loss\n",
    "    \"\"\"\n",
    "    \n",
    "    anchor, positive, negative = y_pred[0], y_pred[1], y_pred[2]\n",
    "    \n",
    "    ### START CODE HERE ### (≈ 4 lines)\n",
    "    # Step 1: Compute the (encoding) distance between the anchor and the positive\n",
    "    pos_dist = tf.reduce_sum(tf.square(y_pred[1] - y_pred[0]), axis = -1)\n",
    "    # Step 2: Compute the (encoding) distance between the anchor and the negative\n",
    "    neg_dist = tf.reduce_sum(tf.square(y_pred[2] - y_pred[0]), axis = -1)\n",
    "    # Step 3: subtract the two previous distances and add alpha.\n",
    "    basic_loss = pos_dist - neg_dist + alpha\n",
    "    # Step 4: Take the maximum of basic_loss and 0.0. Sum over the training examples.\n",
    "    loss = tf.reduce_sum(tf.maximum(basic_loss, 0.0))\n",
    "    ### END CODE HERE ###\n",
    "    \n",
    "    return loss"
   ]
  },
  {
   "cell_type": "code",
   "execution_count": 5,
   "metadata": {},
   "outputs": [],
   "source": [
    "## Loading the trained model\n",
    "FRmodel.compile(optimizer = 'adam', loss = triplet_loss, metrics = ['accuracy'])\n",
    "load_weights_from_FaceNet(FRmodel)"
   ]
  },
  {
   "cell_type": "code",
   "execution_count": 6,
   "metadata": {},
   "outputs": [],
   "source": [
    "def open_database():\n",
    "    try:\n",
    "        with open('database/user_database.pickle', 'rb') as data:\n",
    "        \tuser_db = pickle.load(data)\n",
    "    except:\n",
    "        print(\"error opening previous database\\n creating new dictionary\")\n",
    "        user_db = {}\n",
    "    finally:\n",
    "        return user_db"
   ]
  },
  {
   "cell_type": "code",
   "execution_count": 7,
   "metadata": {},
   "outputs": [],
   "source": [
    "def add_to_database(name, img_path, user_db):\n",
    "    user_db[name] = img_to_encoding(img_path, FRmodel)\n",
    "    print(\"added {} to the database\".format(name))\n",
    "    save_database(user_db)\t\n",
    "    return user_db"
   ]
  },
  {
   "cell_type": "code",
   "execution_count": 8,
   "metadata": {},
   "outputs": [],
   "source": [
    "def delete_from_database(name, user_db):\n",
    "    del user_db[name]\n",
    "    save_database(user_db)\n",
    "    return user_db"
   ]
  },
  {
   "cell_type": "code",
   "execution_count": 9,
   "metadata": {},
   "outputs": [],
   "source": [
    "def save_database(user_db):\n",
    "    with open('database/user_database.pickle', 'wb') as handle:\n",
    "                pickle.dump(user_db, handle, protocol=pickle.HIGHEST_PROTOCOL)"
   ]
  },
  {
   "cell_type": "code",
   "execution_count": 10,
   "metadata": {},
   "outputs": [],
   "source": [
    "def identify(image_path, database, model, min_threshold):\n",
    "    \"\"\"\n",
    "    Implements face recognition by finding who is the person on the image_path image.\n",
    "    \n",
    "    Arguments:\n",
    "    image_path -- path to an image\n",
    "    database -- database containing image encodings along with the name of the person on the image\n",
    "    model -- your Inception model instance in Keras\n",
    "    \n",
    "    Returns:\n",
    "    min_dist -- the minimum distance between image_path encoding and the encodings from the database\n",
    "    identity -- string, the name prediction for the person on image_path\n",
    "    \"\"\"\n",
    "    \n",
    "    ### START CODE HERE ### \n",
    "    \n",
    "    ## Step 1: Compute the target \"encoding\" for the image\n",
    "    encoding = img_to_encoding(image_path, model)\n",
    "    \n",
    "    ## Step 2: Find the closest encoding ##\n",
    "    \n",
    "    # Initialize \"min_dist\" to a large value, say 100 (≈1 line)\n",
    "    min_dist = 100\n",
    "    \n",
    "    # Loop over the database dictionary's names and encodings.\n",
    "    for (name, db_enc) in database.items():\n",
    "        \n",
    "        # Compute L2 distance between the target \"encoding\" and the current \"emb\" from the database\n",
    "        dist = np.linalg.norm(np.subtract(encoding ,database[name]))\n",
    "\n",
    "        # If this distance is less than the min_dist, then set min_dist to dist, and identity to name\n",
    "        if dist < min_dist:\n",
    "            min_dist = dist\n",
    "            identity = name\n",
    "    \n",
    "    if min_dist > min_threshold:\n",
    "        print(\"Not in the database.\")\n",
    "        identity = \"Unknown\"\n",
    "    print (\"it's \" + str(identity) + \", the distance is \" + str(min_dist))\n",
    "        \n",
    "    return min_dist, identity\n",
    "    ### END CODE HERE ###\n"
   ]
  },
  {
   "cell_type": "code",
   "execution_count": null,
   "metadata": {},
   "outputs": [
    {
     "name": "stdout",
     "output_type": "stream",
     "text": [
      "(238, 0, 3)\n",
      "(248, 228, 3)\n",
      "(233, 221, 3)\n",
      "(238, 0, 3)\n",
      "(248, 228, 3)\n",
      "(233, 221, 3)\n",
      "(238, 0, 3)\n",
      "(248, 228, 3)\n",
      "(233, 221, 3)\n",
      "(238, 0, 3)\n",
      "(248, 228, 3)\n",
      "(233, 221, 3)\n",
      "(238, 0, 3)\n",
      "(248, 228, 3)\n",
      "(233, 221, 3)\n",
      "(238, 0, 3)\n",
      "(248, 228, 3)\n",
      "(233, 221, 3)\n",
      "(238, 0, 3)\n",
      "(248, 228, 3)\n",
      "(233, 221, 3)\n",
      "(238, 0, 3)\n",
      "(248, 228, 3)\n",
      "(233, 221, 3)\n",
      "(238, 0, 3)\n",
      "(248, 228, 3)\n",
      "(233, 221, 3)\n",
      "(238, 0, 3)\n",
      "(248, 228, 3)\n",
      "(233, 221, 3)\n",
      "(238, 0, 3)\n",
      "(248, 228, 3)\n",
      "(233, 221, 3)\n",
      "(238, 0, 3)\n",
      "(248, 228, 3)\n",
      "(233, 221, 3)\n",
      "(238, 0, 3)\n",
      "(248, 228, 3)\n",
      "(233, 221, 3)\n",
      "(238, 0, 3)\n",
      "(248, 228, 3)\n",
      "(233, 221, 3)\n",
      "(238, 0, 3)\n",
      "(248, 228, 3)\n",
      "(233, 221, 3)\n",
      "(238, 0, 3)\n",
      "(248, 228, 3)\n",
      "(233, 221, 3)\n",
      "(238, 0, 3)\n",
      "(248, 228, 3)\n",
      "(233, 221, 3)\n",
      "(238, 0, 3)\n",
      "(248, 228, 3)\n",
      "(233, 221, 3)\n",
      "(238, 0, 3)\n",
      "(248, 228, 3)\n",
      "(233, 221, 3)\n",
      "(238, 0, 3)\n",
      "(248, 228, 3)\n",
      "(233, 221, 3)\n",
      "(238, 0, 3)\n",
      "(248, 228, 3)\n",
      "(233, 221, 3)\n",
      "(238, 0, 3)\n",
      "(248, 228, 3)\n",
      "(233, 221, 3)\n",
      "(238, 0, 3)\n",
      "(248, 228, 3)\n",
      "(233, 221, 3)\n",
      "(238, 0, 3)\n",
      "(248, 228, 3)\n",
      "(233, 221, 3)\n"
     ]
    }
   ],
   "source": [
    "# take_picture_no_webcam()\n",
    "user_db = open_database()\n",
    "# user_db = add_to_database(\"Shubham\", 'to_detect_faces/1.jpg', user_db)\n",
    "realtime_face_recognition_no_webcam(user_db, FRmodel, 0.7)"
   ]
  },
  {
   "cell_type": "code",
   "execution_count": null,
   "metadata": {},
   "outputs": [],
   "source": []
  }
 ],
 "metadata": {
  "kernelspec": {
   "display_name": "Python 3",
   "language": "python",
   "name": "python3"
  },
  "language_info": {
   "codemirror_mode": {
    "name": "ipython",
    "version": 3
   },
   "file_extension": ".py",
   "mimetype": "text/x-python",
   "name": "python",
   "nbconvert_exporter": "python",
   "pygments_lexer": "ipython3",
   "version": "3.6.3"
  }
 },
 "nbformat": 4,
 "nbformat_minor": 2
}
